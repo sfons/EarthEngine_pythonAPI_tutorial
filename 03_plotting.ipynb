{
 "cells": [
  {
   "cell_type": "markdown",
   "id": "e46c6e8e",
   "metadata": {},
   "source": [
    "# Welcome to the Google Earth Engine (GEE) Python API!\n",
    "\n",
    "## These notebooks will provide an overview of how to use the GEE python API and access all it has to offer."
   ]
  },
  {
   "cell_type": "markdown",
   "id": "fab6daeb",
   "metadata": {},
   "source": [
    "# Notebook 3: Visualizing Data using geemap\n"
   ]
  },
  {
   "cell_type": "markdown",
   "id": "a6fc89d3",
   "metadata": {},
   "source": [
    "This notebook covers a quick look into the _geemap_ package, which provides simple python tools for plotting earth engine datasets.\n",
    "Feel free to check out [geemap.org](http://geemap.org) for more information."
   ]
  },
  {
   "cell_type": "markdown",
   "id": "0afc1dbf",
   "metadata": {},
   "source": [
    "## 1. Creating a map"
   ]
  },
  {
   "cell_type": "markdown",
   "id": "74d0b432",
   "metadata": {},
   "source": [
    "Creating a map using geemap is simple: Just call _geemap.Map()_"
   ]
  },
  {
   "cell_type": "code",
   "execution_count": 1,
   "id": "23e85665",
   "metadata": {},
   "outputs": [
    {
     "data": {
      "application/vnd.jupyter.widget-view+json": {
       "model_id": "ddf7ad48ef9343af9a2b5e39221493f8",
       "version_major": 2,
       "version_minor": 0
      },
      "text/plain": [
       "Map(center=[20, 0], controls=(WidgetControl(options=['position', 'transparent_bg'], widget=HBox(children=(Togg…"
      ]
     },
     "metadata": {},
     "output_type": "display_data"
    }
   ],
   "source": [
    "import ee\n",
    "ee.Initialize()\n",
    "import geemap\n",
    "Map = geemap.Map()\n",
    "Map"
   ]
  },
  {
   "cell_type": "markdown",
   "id": "d6183594",
   "metadata": {},
   "source": [
    "This creates an interactive plot with __tons__ of features. Feel free to click around on the above map and explore some of the built-in tools."
   ]
  },
  {
   "cell_type": "markdown",
   "id": "9d5248df",
   "metadata": {},
   "source": [
    "You can pass different arguments, including a (lat,lon) point to center the map and a zoom level. Also, the basemap can be changed to any object in the _geemap.basemaps_ dictionary (such as 'HYBRID', 'SATELLITE', or 'NLCD 2019 CONUS Land Cover'):"
   ]
  },
  {
   "cell_type": "code",
   "execution_count": 2,
   "id": "e41894ff",
   "metadata": {},
   "outputs": [
    {
     "data": {
      "application/vnd.jupyter.widget-view+json": {
       "model_id": "0ea97aedbd124e5c9a733d8000d18183",
       "version_major": 2,
       "version_minor": 0
      },
      "text/plain": [
       "Map(center=[40.015, -105], controls=(WidgetControl(options=['position', 'transparent_bg'], widget=HBox(childre…"
      ]
     },
     "metadata": {},
     "output_type": "display_data"
    }
   ],
   "source": [
    "Map = geemap.Map(center = (40.015,-105),zoom=4,basemap='HYBRID')\n",
    "Map"
   ]
  },
  {
   "cell_type": "markdown",
   "id": "e1488489",
   "metadata": {},
   "source": [
    "## 2. Adding GEE features"
   ]
  },
  {
   "cell_type": "markdown",
   "id": "dd6709e7",
   "metadata": {},
   "source": [
    "As in the last notebook, you can add features from GEE to these maps using _Map.addLayer()_. Let's use the TIGER county database as an example: "
   ]
  },
  {
   "cell_type": "code",
   "execution_count": 3,
   "id": "4b87b7a1",
   "metadata": {},
   "outputs": [],
   "source": [
    "county_name = 'Boulder'\n",
    "counties = ee.FeatureCollection('TIGER/2018/Counties')\n",
    "boulderCo = ee.Feature(counties.filter(ee.Filter.eq(\"NAME\", county_name)).first())"
   ]
  },
  {
   "cell_type": "code",
   "execution_count": 4,
   "id": "9909f5fb",
   "metadata": {},
   "outputs": [
    {
     "data": {
      "application/vnd.jupyter.widget-view+json": {
       "model_id": "f0466a3cddf3457393f65447b68d8d7d",
       "version_major": 2,
       "version_minor": 0
      },
      "text/plain": [
       "Map(center=[40.015, -105], controls=(WidgetControl(options=['position', 'transparent_bg'], widget=HBox(childre…"
      ]
     },
     "metadata": {},
     "output_type": "display_data"
    }
   ],
   "source": [
    "Map = geemap.Map(center = (40.015,-105),zoom=6,basemap='HYBRID')\n",
    "Map.addLayer(boulderCo,{'opacity':.5,'color':'red'},'County Boundary')\n",
    "Map"
   ]
  },
  {
   "cell_type": "markdown",
   "id": "9297cbc6",
   "metadata": {},
   "source": [
    "The map above can also be set to a center on a given feature:"
   ]
  },
  {
   "cell_type": "code",
   "execution_count": 5,
   "id": "f5851672",
   "metadata": {},
   "outputs": [],
   "source": [
    "Map.centerObject(boulderCo, 10)"
   ]
  },
  {
   "cell_type": "markdown",
   "id": "d54f5c26",
   "metadata": {},
   "source": [
    "ee.Feature is called above to get the single feature from the feature collection. However, an entire feature collection can be plotted in the same way. Let's look at all counties in the US named \"Jefferson\":"
   ]
  },
  {
   "cell_type": "code",
   "execution_count": 6,
   "id": "481d54c3",
   "metadata": {},
   "outputs": [
    {
     "data": {
      "application/vnd.jupyter.widget-view+json": {
       "model_id": "b8039e9fcf4b4b5fa2826bbfe4cd108d",
       "version_major": 2,
       "version_minor": 0
      },
      "text/plain": [
       "Map(center=[40.015, -97.5], controls=(WidgetControl(options=['position', 'transparent_bg'], widget=HBox(childr…"
      ]
     },
     "metadata": {},
     "output_type": "display_data"
    }
   ],
   "source": [
    "county_name = 'Jefferson'\n",
    "jeffersonCounties = counties.filter(ee.Filter.eq(\"NAME\", county_name))\n",
    "Map = geemap.Map(center = (40.015,-97.5),zoom=4,basemap='HYBRID')\n",
    "Map.addLayer(jeffersonCounties,{'opacity':.5,'color':'yellow'},'Jefferson Counties')\n",
    "Map"
   ]
  },
  {
   "cell_type": "markdown",
   "id": "07504815",
   "metadata": {},
   "source": [
    "Quite a few! "
   ]
  },
  {
   "cell_type": "markdown",
   "id": "ed896f10",
   "metadata": {},
   "source": [
    "## 3. Adding GEE images"
   ]
  },
  {
   "cell_type": "markdown",
   "id": "d7aebf0e",
   "metadata": {},
   "source": [
    "An image can be added in the exact same way. Let's use the landsat images we used in the last notebook. To refresh, these file IDs were:\n",
    "- LC08_L2SP_033032_20210511_20210524_02_T2\n",
    "- LC08_L2SP_033033_20210511_20210524_02_T2\n",
    "\n",
    "Let's use just the first one for now:"
   ]
  },
  {
   "cell_type": "code",
   "execution_count": 8,
   "id": "6016dc37",
   "metadata": {},
   "outputs": [
    {
     "data": {
      "text/plain": [
       "[{'id': 'SR_B1',\n",
       "  'data_type': {'type': 'PixelType',\n",
       "   'precision': 'int',\n",
       "   'min': 0,\n",
       "   'max': 65535},\n",
       "  'dimensions': [8991, 8971],\n",
       "  'crs': 'EPSG:32630',\n",
       "  'crs_transform': [30, 0, 341985, 0, -30, 9016215]},\n",
       " {'id': 'SR_B2',\n",
       "  'data_type': {'type': 'PixelType',\n",
       "   'precision': 'int',\n",
       "   'min': 0,\n",
       "   'max': 65535},\n",
       "  'dimensions': [8991, 8971],\n",
       "  'crs': 'EPSG:32630',\n",
       "  'crs_transform': [30, 0, 341985, 0, -30, 9016215]},\n",
       " {'id': 'SR_B3',\n",
       "  'data_type': {'type': 'PixelType',\n",
       "   'precision': 'int',\n",
       "   'min': 0,\n",
       "   'max': 65535},\n",
       "  'dimensions': [8991, 8971],\n",
       "  'crs': 'EPSG:32630',\n",
       "  'crs_transform': [30, 0, 341985, 0, -30, 9016215]},\n",
       " {'id': 'SR_B4',\n",
       "  'data_type': {'type': 'PixelType',\n",
       "   'precision': 'int',\n",
       "   'min': 0,\n",
       "   'max': 65535},\n",
       "  'dimensions': [8991, 8971],\n",
       "  'crs': 'EPSG:32630',\n",
       "  'crs_transform': [30, 0, 341985, 0, -30, 9016215]},\n",
       " {'id': 'SR_B5',\n",
       "  'data_type': {'type': 'PixelType',\n",
       "   'precision': 'int',\n",
       "   'min': 0,\n",
       "   'max': 65535},\n",
       "  'dimensions': [8991, 8971],\n",
       "  'crs': 'EPSG:32630',\n",
       "  'crs_transform': [30, 0, 341985, 0, -30, 9016215]},\n",
       " {'id': 'SR_B6',\n",
       "  'data_type': {'type': 'PixelType',\n",
       "   'precision': 'int',\n",
       "   'min': 0,\n",
       "   'max': 65535},\n",
       "  'dimensions': [8991, 8971],\n",
       "  'crs': 'EPSG:32630',\n",
       "  'crs_transform': [30, 0, 341985, 0, -30, 9016215]},\n",
       " {'id': 'SR_B7',\n",
       "  'data_type': {'type': 'PixelType',\n",
       "   'precision': 'int',\n",
       "   'min': 0,\n",
       "   'max': 65535},\n",
       "  'dimensions': [8991, 8971],\n",
       "  'crs': 'EPSG:32630',\n",
       "  'crs_transform': [30, 0, 341985, 0, -30, 9016215]},\n",
       " {'id': 'SR_QA_AEROSOL',\n",
       "  'data_type': {'type': 'PixelType', 'precision': 'int', 'min': 0, 'max': 255},\n",
       "  'dimensions': [8991, 8971],\n",
       "  'crs': 'EPSG:32630',\n",
       "  'crs_transform': [30, 0, 341985, 0, -30, 9016215]},\n",
       " {'id': 'ST_B10',\n",
       "  'data_type': {'type': 'PixelType',\n",
       "   'precision': 'int',\n",
       "   'min': 0,\n",
       "   'max': 65535},\n",
       "  'dimensions': [8991, 8971],\n",
       "  'crs': 'EPSG:32630',\n",
       "  'crs_transform': [30, 0, 341985, 0, -30, 9016215]},\n",
       " {'id': 'ST_ATRAN',\n",
       "  'data_type': {'type': 'PixelType',\n",
       "   'precision': 'int',\n",
       "   'min': -32768,\n",
       "   'max': 32767},\n",
       "  'dimensions': [8991, 8971],\n",
       "  'crs': 'EPSG:32630',\n",
       "  'crs_transform': [30, 0, 341985, 0, -30, 9016215]},\n",
       " {'id': 'ST_CDIST',\n",
       "  'data_type': {'type': 'PixelType',\n",
       "   'precision': 'int',\n",
       "   'min': -32768,\n",
       "   'max': 32767},\n",
       "  'dimensions': [8991, 8971],\n",
       "  'crs': 'EPSG:32630',\n",
       "  'crs_transform': [30, 0, 341985, 0, -30, 9016215]},\n",
       " {'id': 'ST_DRAD',\n",
       "  'data_type': {'type': 'PixelType',\n",
       "   'precision': 'int',\n",
       "   'min': -32768,\n",
       "   'max': 32767},\n",
       "  'dimensions': [8991, 8971],\n",
       "  'crs': 'EPSG:32630',\n",
       "  'crs_transform': [30, 0, 341985, 0, -30, 9016215]},\n",
       " {'id': 'ST_EMIS',\n",
       "  'data_type': {'type': 'PixelType',\n",
       "   'precision': 'int',\n",
       "   'min': -32768,\n",
       "   'max': 32767},\n",
       "  'dimensions': [8991, 8971],\n",
       "  'crs': 'EPSG:32630',\n",
       "  'crs_transform': [30, 0, 341985, 0, -30, 9016215]},\n",
       " {'id': 'ST_EMSD',\n",
       "  'data_type': {'type': 'PixelType',\n",
       "   'precision': 'int',\n",
       "   'min': -32768,\n",
       "   'max': 32767},\n",
       "  'dimensions': [8991, 8971],\n",
       "  'crs': 'EPSG:32630',\n",
       "  'crs_transform': [30, 0, 341985, 0, -30, 9016215]},\n",
       " {'id': 'ST_QA',\n",
       "  'data_type': {'type': 'PixelType',\n",
       "   'precision': 'int',\n",
       "   'min': -32768,\n",
       "   'max': 32767},\n",
       "  'dimensions': [8991, 8971],\n",
       "  'crs': 'EPSG:32630',\n",
       "  'crs_transform': [30, 0, 341985, 0, -30, 9016215]},\n",
       " {'id': 'ST_TRAD',\n",
       "  'data_type': {'type': 'PixelType',\n",
       "   'precision': 'int',\n",
       "   'min': -32768,\n",
       "   'max': 32767},\n",
       "  'dimensions': [8991, 8971],\n",
       "  'crs': 'EPSG:32630',\n",
       "  'crs_transform': [30, 0, 341985, 0, -30, 9016215]},\n",
       " {'id': 'ST_URAD',\n",
       "  'data_type': {'type': 'PixelType',\n",
       "   'precision': 'int',\n",
       "   'min': -32768,\n",
       "   'max': 32767},\n",
       "  'dimensions': [8991, 8971],\n",
       "  'crs': 'EPSG:32630',\n",
       "  'crs_transform': [30, 0, 341985, 0, -30, 9016215]},\n",
       " {'id': 'QA_PIXEL',\n",
       "  'data_type': {'type': 'PixelType',\n",
       "   'precision': 'int',\n",
       "   'min': 0,\n",
       "   'max': 65535},\n",
       "  'dimensions': [8991, 8971],\n",
       "  'crs': 'EPSG:32630',\n",
       "  'crs_transform': [30, 0, 341985, 0, -30, 9016215]},\n",
       " {'id': 'QA_RADSAT',\n",
       "  'data_type': {'type': 'PixelType',\n",
       "   'precision': 'int',\n",
       "   'min': 0,\n",
       "   'max': 65535},\n",
       "  'dimensions': [8991, 8971],\n",
       "  'crs': 'EPSG:32630',\n",
       "  'crs_transform': [30, 0, 341985, 0, -30, 9016215]}]"
      ]
     },
     "execution_count": 8,
     "metadata": {},
     "output_type": "execute_result"
    }
   ],
   "source": [
    "landsat_img  = ee.ImageCollection('LANDSAT/LC08/C02/T2_L2')\\\n",
    "                                .filter(ee.Filter.eq('LANDSAT_PRODUCT_ID', 'LC08_L2SP_033032_20210511_20210524_02_T2')).first()\n",
    "##to refresh, the properties within the image collection on which to filter can be listed with:\n",
    "col= ee.ImageCollection('LANDSAT/LC08/C02/T2_L2')\n",
    "col.first().propertyNames().getInfo()\n",
    "col.first().getInfo()['bands']"
   ]
  },
  {
   "cell_type": "code",
   "execution_count": 9,
   "id": "3c1a9aea",
   "metadata": {},
   "outputs": [
    {
     "data": {
      "application/vnd.jupyter.widget-view+json": {
       "model_id": "7e142ae50e2642529403db6964ab49e2",
       "version_major": 2,
       "version_minor": 0
      },
      "text/plain": [
       "Map(center=[40.330959838710434, -104.24316276508551], controls=(WidgetControl(options=['position', 'transparen…"
      ]
     },
     "metadata": {},
     "output_type": "display_data"
    }
   ],
   "source": [
    "Map = geemap.Map(basemap='HYBRID')\n",
    "Map.addLayer(landsat_img.select('SR_B7'), {'min': 20000, 'max': 25000}, 'Landsat Band 7')\n",
    "Map.centerObject(landsat_img.select('SR_B7'), 8)\n",
    "Map"
   ]
  },
  {
   "cell_type": "markdown",
   "id": "45d0d3f8",
   "metadata": {},
   "source": [
    "Additionally, images can be clipped to the bounds of a feature:"
   ]
  },
  {
   "cell_type": "code",
   "execution_count": 10,
   "id": "4a9e223d",
   "metadata": {},
   "outputs": [],
   "source": [
    "landsat_img_clipped = landsat_img.clip(boulderCo)"
   ]
  },
  {
   "cell_type": "code",
   "execution_count": 11,
   "id": "b2131e60",
   "metadata": {},
   "outputs": [
    {
     "data": {
      "application/vnd.jupyter.widget-view+json": {
       "model_id": "8667adadae1d49e68bca5e12264a96a5",
       "version_major": 2,
       "version_minor": 0
      },
      "text/plain": [
       "Map(center=[40.09245085401178, -105.35771122120155], controls=(WidgetControl(options=['position', 'transparent…"
      ]
     },
     "metadata": {},
     "output_type": "display_data"
    }
   ],
   "source": [
    "Map = geemap.Map(basemap='HYBRID')\n",
    "Map.centerObject(boulderCo, 10)\n",
    "vis_params = {\n",
    "    'color': 'red', \n",
    "    'lineType': 'solid',\n",
    "    'strokeWidth':20,\n",
    "    'fillColor': None}\n",
    "Map.addLayer(boulderCo,vis_params,'County Boundary')\n",
    "Map.addLayer(landsat_img_clipped.select('SR_B1'), {'min': 20000, 'max': 50000}, 'Landsat Band 1')\n",
    "Map"
   ]
  },
  {
   "cell_type": "markdown",
   "id": "e515d15d",
   "metadata": {},
   "source": [
    "## 4. Adding image collections"
   ]
  },
  {
   "cell_type": "markdown",
   "id": "cf6bc28e",
   "metadata": {},
   "source": [
    "Instead of adding one image at a time, entire collections can be plotted. For example, let's plot all the landsat images from a given day"
   ]
  },
  {
   "cell_type": "code",
   "execution_count": 12,
   "id": "212281ff",
   "metadata": {},
   "outputs": [
    {
     "name": "stdout",
     "output_type": "stream",
     "text": [
      "165 images in filtered collection\n"
     ]
    }
   ],
   "source": [
    "ls_collection  = ee.ImageCollection('LANDSAT/LC08/C02/T2_L2').filterDate('2021-07-04', '2021-07-05')\n",
    "print(str(ls_collection.size().getInfo())+' images in filtered collection')"
   ]
  },
  {
   "cell_type": "code",
   "execution_count": 13,
   "id": "044a4d25",
   "metadata": {},
   "outputs": [
    {
     "data": {
      "application/vnd.jupyter.widget-view+json": {
       "model_id": "4ed7257b0bc44c9ab8a046aac56ce1eb",
       "version_major": 2,
       "version_minor": 0
      },
      "text/plain": [
       "Map(center=[40.015, -105], controls=(WidgetControl(options=['position', 'transparent_bg'], widget=HBox(childre…"
      ]
     },
     "metadata": {},
     "output_type": "display_data"
    }
   ],
   "source": [
    "Map = geemap.Map(center = (40.015,-105),zoom=2,basemap='HYBRID')\n",
    "Map.addLayer(ls_collection, {'bands':['SR_B1'],'min':20000,'max':50000}, \"Landsat images\")\n",
    "Map"
   ]
  },
  {
   "cell_type": "markdown",
   "id": "41ea0291",
   "metadata": {},
   "source": [
    "This is one way to visualize the imagery coverage from a given sensor and time range. Additionally, images from other sensors can be added to the same map:"
   ]
  },
  {
   "cell_type": "code",
   "execution_count": 14,
   "id": "631a0972",
   "metadata": {},
   "outputs": [
    {
     "name": "stdout",
     "output_type": "stream",
     "text": [
      "883 images in filtered collection\n"
     ]
    }
   ],
   "source": [
    "s2_collection  = ee.ImageCollection(\"COPERNICUS/S2_SR\").filterDate('2021-07-04T00:00', '2021-07-04T02:00')\n",
    "print(str(s2_collection.size().getInfo())+' images in filtered collection')"
   ]
  },
  {
   "cell_type": "code",
   "execution_count": 15,
   "id": "b748d6ea",
   "metadata": {},
   "outputs": [],
   "source": [
    "Map.addLayer(s2_collection, {'bands':['B1'],'min':0,'max':2000}, \"Sentinel-2 images\")"
   ]
  },
  {
   "cell_type": "markdown",
   "id": "9689742c",
   "metadata": {},
   "source": [
    "This was a simple overview on how to add images / features to a map using geemap. However, these are just single bands that don't provide as much information as they could.\n",
    "In the next notebook, more advanced plotting techniques will be covered.\n"
   ]
  }
 ],
 "metadata": {
  "kernelspec": {
   "display_name": "Python [conda env:gee] *",
   "language": "python",
   "name": "conda-env-gee-py"
  },
  "language_info": {
   "codemirror_mode": {
    "name": "ipython",
    "version": 3
   },
   "file_extension": ".py",
   "mimetype": "text/x-python",
   "name": "python",
   "nbconvert_exporter": "python",
   "pygments_lexer": "ipython3",
   "version": "3.8.12"
  }
 },
 "nbformat": 4,
 "nbformat_minor": 5
}
