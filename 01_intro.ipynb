{
 "cells": [
  {
   "cell_type": "markdown",
   "id": "9a04f960",
   "metadata": {},
   "source": [
    "# Welcome to the Google Earth Engine (GEE) Python API!\n",
    "\n",
    "## These notebooks will provide an overview of how to use the GEE python API and access all it has to offer."
   ]
  },
  {
   "cell_type": "markdown",
   "id": "8fe16a86",
   "metadata": {},
   "source": [
    "# Notebook 1: Introduction and Sign-up"
   ]
  },
  {
   "cell_type": "markdown",
   "id": "55fcec81",
   "metadata": {},
   "source": [
    "<img src=\"figs/homepage.png\" alt=\"GEE HomePage\" style=\"width: 1000px;\"/>"
   ]
  },
  {
   "cell_type": "markdown",
   "id": "187c284e",
   "metadata": {},
   "source": [
    "GEE provides an extensive catalog of earth science data - from remotely sensed datasets to climate model output - for scientists and researchers to use and explore. By hosting these datasets in their cloud infrastructure, GEE makes it easy to parse, subset, and visualize datasets that would otherwise be cumbersome to download and investigate locally.\n",
    "\n",
    "This first notebook will describe how to setup a GEE account (free for academic and research use!) and setup the python API.\n",
    "\n",
    "\n"
   ]
  },
  {
   "cell_type": "markdown",
   "id": "7ba2c410",
   "metadata": {},
   "source": [
    " "
   ]
  },
  {
   "cell_type": "markdown",
   "id": "fe74c1fa",
   "metadata": {},
   "source": [
    "## To get started, sign up for a GEE account"
   ]
  },
  {
   "cell_type": "markdown",
   "id": "ff66cb39",
   "metadata": {},
   "source": [
    "Vist [earthengine.google.com](https://earthengine.google.com/) and click on 'Sign Up' in the upper right-hand corner."
   ]
  },
  {
   "cell_type": "markdown",
   "id": "d03d2c4a",
   "metadata": {},
   "source": [
    "<img src=\"figs/home_signup.png\" alt=\"GEE home\" style=\"width: 800px;\"/>"
   ]
  },
  {
   "cell_type": "markdown",
   "id": "b2c56174",
   "metadata": {},
   "source": [
    "This will take you to a form to fill out some information on how you'll be using GEE. Remember - it's free for researchers and academics (that means you, grad students!)\n",
    "\n",
    "Using your institutional email will make the process easier."
   ]
  },
  {
   "cell_type": "markdown",
   "id": "26bbf579",
   "metadata": {},
   "source": [
    "<img src=\"figs/sign_up.png\" alt=\"GEE sign up\" style=\"width: 600px;\"/>"
   ]
  },
  {
   "cell_type": "markdown",
   "id": "bb7f9d98",
   "metadata": {},
   "source": [
    "Once you've signed up, it may take a couple of days to get approved. "
   ]
  },
  {
   "cell_type": "markdown",
   "id": "fd1ce476",
   "metadata": {},
   "source": [
    "## Next, prepare your python environment"
   ]
  },
  {
   "cell_type": "markdown",
   "id": "1cb5e408",
   "metadata": {},
   "source": [
    "There are two important packages to use with the GEE API: \n",
    "1.   [ earthengine-api](https://developers.google.com/earth-engine/), for accessing the API.\n",
    "1.   [ geemap](https://geemap.org/), for visualizing the data."
   ]
  },
  {
   "cell_type": "markdown",
   "id": "afae452c",
   "metadata": {},
   "source": [
    "While you can use whatever python installation and packages you're comfortable with, these notebooks will primarily use:\n",
    "- python 3.8\n",
    "- pandas\n",
    "- numpy\n"
   ]
  },
  {
   "cell_type": "markdown",
   "id": "785761dd",
   "metadata": {},
   "source": [
    "To install, I use conda:\n",
    "- conda install -c conda-forge earthengine-api\n",
    "\n",
    "- conda install -c conda-forge geemap\n",
    "    "
   ]
  },
  {
   "cell_type": "markdown",
   "id": "e26146b6",
   "metadata": {},
   "source": [
    "Test to make sure they're correctly installed:"
   ]
  },
  {
   "cell_type": "code",
   "execution_count": 1,
   "id": "5b8a134a",
   "metadata": {},
   "outputs": [],
   "source": [
    "import ee\n",
    "import geemap"
   ]
  },
  {
   "cell_type": "markdown",
   "id": "7a2bdbc2",
   "metadata": {},
   "source": [
    "## Then, authorize the notebook to access GEE"
   ]
  },
  {
   "cell_type": "code",
   "execution_count": 4,
   "id": "cf2dbbe1",
   "metadata": {},
   "outputs": [],
   "source": [
    "# Trigger the authentication flow.\n",
    "#ee.Authenticate()\n",
    "\n",
    "# Initialize the library.\n",
    "ee.Initialize()"
   ]
  },
  {
   "cell_type": "markdown",
   "id": "ca9b8c6e",
   "metadata": {},
   "source": [
    "This will prompt a login screen:"
   ]
  },
  {
   "cell_type": "markdown",
   "id": "8c376f37",
   "metadata": {},
   "source": [
    "<img src=\"figs/sign_in.png\" alt=\"GEE sign in\" style=\"width: 400px;\"/>"
   ]
  },
  {
   "cell_type": "markdown",
   "id": "4121f47e",
   "metadata": {},
   "source": [
    "Which will then give you an authentication code to enter in your notebook:"
   ]
  },
  {
   "cell_type": "markdown",
   "id": "9754f780",
   "metadata": {},
   "source": [
    "<img src=\"figs/auth2.png\" alt=\"Auth token\" style=\"width: 900px;\"/>"
   ]
  },
  {
   "cell_type": "markdown",
   "id": "d41c2bda",
   "metadata": {},
   "source": [
    "Enter the code, and you're all set! \n",
    "\n",
    "The next notebook will explore the dataset types that are available in GEE."
   ]
  }
 ],
 "metadata": {
  "kernelspec": {
   "display_name": "Python [conda env:gee] *",
   "language": "python",
   "name": "conda-env-gee-py"
  },
  "language_info": {
   "codemirror_mode": {
    "name": "ipython",
    "version": 3
   },
   "file_extension": ".py",
   "mimetype": "text/x-python",
   "name": "python",
   "nbconvert_exporter": "python",
   "pygments_lexer": "ipython3",
   "version": "3.8.12"
  }
 },
 "nbformat": 4,
 "nbformat_minor": 5
}
